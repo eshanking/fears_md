{
 "cells": [
  {
   "cell_type": "code",
   "execution_count": 1,
   "metadata": {},
   "outputs": [
    {
     "ename": "TypeError",
     "evalue": "loop of ufunc does not support argument 0 of type NoneType which has no callable log2 method",
     "output_type": "error",
     "traceback": [
      "\u001b[0;31m---------------------------------------------------------------------------\u001b[0m",
      "\u001b[0;31mAttributeError\u001b[0m                            Traceback (most recent call last)",
      "\u001b[0;31mAttributeError\u001b[0m: 'NoneType' object has no attribute 'log2'",
      "\nThe above exception was the direct cause of the following exception:\n",
      "\u001b[0;31mTypeError\u001b[0m                                 Traceback (most recent call last)",
      "\u001b[1;32m/Users/kinge2/repos/fears_md/examples/scratch.ipynb Cell 1\u001b[0m line \u001b[0;36m4\n\u001b[1;32m      <a href='vscode-notebook-cell:/Users/kinge2/repos/fears_md/examples/scratch.ipynb#W0sZmlsZQ%3D%3D?line=0'>1</a>\u001b[0m \u001b[39mfrom\u001b[39;00m \u001b[39mfears_md\u001b[39;00m\u001b[39m.\u001b[39;00m\u001b[39mpopulation\u001b[39;00m \u001b[39mimport\u001b[39;00m Population\n\u001b[1;32m      <a href='vscode-notebook-cell:/Users/kinge2/repos/fears_md/examples/scratch.ipynb#W0sZmlsZQ%3D%3D?line=1'>2</a>\u001b[0m \u001b[39mfrom\u001b[39;00m \u001b[39mfears_md\u001b[39;00m\u001b[39m.\u001b[39;00m\u001b[39mutils\u001b[39;00m \u001b[39mimport\u001b[39;00m fitness\n\u001b[0;32m----> <a href='vscode-notebook-cell:/Users/kinge2/repos/fears_md/examples/scratch.ipynb#W0sZmlsZQ%3D%3D?line=3'>4</a>\u001b[0m p \u001b[39m=\u001b[39m Population()\n",
      "File \u001b[0;32m/opt/anaconda3/lib/python3.8/site-packages/fears_md-0.1.0-py3.8.egg/fears_md/population.py:330\u001b[0m, in \u001b[0;36mPopulation.__init__\u001b[0;34m(self, **kwargs)\u001b[0m\n\u001b[1;32m    326\u001b[0m \u001b[39mself\u001b[39m\u001b[39m.\u001b[39mload_drug_libraries()\n\u001b[1;32m    328\u001b[0m \u001b[39mself\u001b[39m\u001b[39m.\u001b[39minitialize_drug_curves()\n\u001b[0;32m--> 330\u001b[0m \u001b[39mself\u001b[39;49m\u001b[39m.\u001b[39;49minitialize_population()\n",
      "File \u001b[0;32m/opt/anaconda3/lib/python3.8/site-packages/fears_md-0.1.0-py3.8.egg/fears_md/population.py:394\u001b[0m, in \u001b[0;36mPopulation.initialize_population\u001b[0;34m(self)\u001b[0m\n\u001b[1;32m    392\u001b[0m     n_genotype \u001b[39m=\u001b[39m \u001b[39mlen\u001b[39m(\u001b[39mself\u001b[39m\u001b[39m.\u001b[39mpd_library[\u001b[39m'\u001b[39m\u001b[39mgenotype\u001b[39m\u001b[39m'\u001b[39m]\u001b[39m.\u001b[39munique())\n\u001b[1;32m    393\u001b[0m \u001b[39mif\u001b[39;00m \u001b[39mself\u001b[39m\u001b[39m.\u001b[39mn_allele \u001b[39mis\u001b[39;00m \u001b[39mNone\u001b[39;00m:\n\u001b[0;32m--> 394\u001b[0m     \u001b[39mself\u001b[39m\u001b[39m.\u001b[39mn_allele \u001b[39m=\u001b[39m \u001b[39mint\u001b[39m(np\u001b[39m.\u001b[39;49mlog2(\u001b[39mself\u001b[39;49m\u001b[39m.\u001b[39;49mn_genotype))\n\u001b[1;32m    395\u001b[0m \u001b[39mif\u001b[39;00m \u001b[39mint\u001b[39m(\u001b[39mself\u001b[39m\u001b[39m.\u001b[39mn_allele) \u001b[39m!=\u001b[39m \u001b[39mint\u001b[39m(np\u001b[39m.\u001b[39mlog2(\u001b[39mself\u001b[39m\u001b[39m.\u001b[39mn_genotype)):\n\u001b[1;32m    396\u001b[0m     \u001b[39mraise\u001b[39;00m \u001b[39mWarning\u001b[39;00m(\u001b[39m'\u001b[39m\u001b[39mGenotype/allele number mismatch\u001b[39m\u001b[39m'\u001b[39m)\n",
      "\u001b[0;31mTypeError\u001b[0m: loop of ufunc does not support argument 0 of type NoneType which has no callable log2 method"
     ]
    }
   ],
   "source": [
    "from fears_md.population import Population\n",
    "from fears_md.utils import fitness\n",
    "\n",
    "p = Population()"
   ]
  },
  {
   "cell_type": "code",
   "execution_count": null,
   "metadata": {},
   "outputs": [
    {
     "data": {
      "text/html": [
       "<div>\n",
       "<style scoped>\n",
       "    .dataframe tbody tr th:only-of-type {\n",
       "        vertical-align: middle;\n",
       "    }\n",
       "\n",
       "    .dataframe tbody tr th {\n",
       "        vertical-align: top;\n",
       "    }\n",
       "\n",
       "    .dataframe thead th {\n",
       "        text-align: right;\n",
       "    }\n",
       "</style>\n",
       "<table border=\"1\" class=\"dataframe\">\n",
       "  <thead>\n",
       "    <tr style=\"text-align: right;\">\n",
       "      <th></th>\n",
       "      <th>drug</th>\n",
       "      <th>gmax</th>\n",
       "      <th>gmin</th>\n",
       "      <th>ic50</th>\n",
       "      <th>hc</th>\n",
       "      <th>genotype</th>\n",
       "    </tr>\n",
       "  </thead>\n",
       "  <tbody>\n",
       "    <tr>\n",
       "      <th>0</th>\n",
       "      <td>osimertinib</td>\n",
       "      <td>1</td>\n",
       "      <td>0</td>\n",
       "      <td>15.011842</td>\n",
       "      <td>-1</td>\n",
       "      <td>0</td>\n",
       "    </tr>\n",
       "  </tbody>\n",
       "</table>\n",
       "</div>"
      ],
      "text/plain": [
       "          drug  gmax  gmin       ic50  hc  genotype\n",
       "0  osimertinib     1     0  15.011842  -1         0"
      ]
     },
     "execution_count": 2,
     "metadata": {},
     "output_type": "execute_result"
    }
   ],
   "source": [
    "df = p.pd_library\n",
    "\n",
    "df_t = df[df['drug'] == 'osimertinib']\n",
    "\n",
    "df_t[df_t['genotype'] == 0]"
   ]
  },
  {
   "cell_type": "code",
   "execution_count": null,
   "metadata": {},
   "outputs": [
    {
     "data": {
      "text/plain": [
       "1"
      ]
     },
     "execution_count": 9,
     "metadata": {},
     "output_type": "execute_result"
    }
   ],
   "source": [
    "df = p.pk_library\n",
    "\n",
    "df_t = df[df['drug'] == 'osimertinib']\n",
    "\n",
    "df_t['kabs'].values[0]"
   ]
  }
 ],
 "metadata": {
  "kernelspec": {
   "display_name": "base",
   "language": "python",
   "name": "python3"
  },
  "language_info": {
   "codemirror_mode": {
    "name": "ipython",
    "version": 3
   },
   "file_extension": ".py",
   "mimetype": "text/x-python",
   "name": "python",
   "nbconvert_exporter": "python",
   "pygments_lexer": "ipython3",
   "version": "3.8.13"
  }
 },
 "nbformat": 4,
 "nbformat_minor": 2
}
